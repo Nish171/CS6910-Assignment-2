{
  "nbformat": 4,
  "nbformat_minor": 0,
  "metadata": {
    "colab": {
      "name": "Assignment_2B_Wandb.ipynb",
      "provenance": [],
      "collapsed_sections": [],
      "include_colab_link": true
    },
    "kernelspec": {
      "display_name": "Python 3",
      "name": "python3"
    },
    "language_info": {
      "name": "python"
    },
    "accelerator": "GPU"
  },
  "cells": [
    {
      "cell_type": "markdown",
      "metadata": {
        "id": "view-in-github",
        "colab_type": "text"
      },
      "source": [
        "<a href=\"https://colab.research.google.com/github/Nish171/CS6910-Assignment-2/blob/main/Assignment_2B_Wandb.ipynb\" target=\"_parent\"><img src=\"https://colab.research.google.com/assets/colab-badge.svg\" alt=\"Open In Colab\"/></a>"
      ]
    },
    {
      "cell_type": "code",
      "metadata": {
        "id": "zN6WvKauHCsk",
        "colab": {
          "base_uri": "https://localhost:8080/"
        },
        "outputId": "0e918953-3828-48a2-8c96-0e89acc71962"
      },
      "source": [
        "!pip install wandb"
      ],
      "execution_count": 26,
      "outputs": [
        {
          "output_type": "stream",
          "text": [
            "Collecting wandb\n",
            "\u001b[?25l  Downloading https://files.pythonhosted.org/packages/47/af/4cfe48fe55046181b992251933cff4ceb3bfd71a42838f5fe683683cd925/wandb-0.10.25-py2.py3-none-any.whl (2.1MB)\n",
            "\u001b[K     |████████████████████████████████| 2.1MB 20.9MB/s \n",
            "\u001b[?25hCollecting GitPython>=1.0.0\n",
            "\u001b[?25l  Downloading https://files.pythonhosted.org/packages/a6/99/98019716955ba243657daedd1de8f3a88ca1f5b75057c38e959db22fb87b/GitPython-3.1.14-py3-none-any.whl (159kB)\n",
            "\u001b[K     |████████████████████████████████| 163kB 53.6MB/s \n",
            "\u001b[?25hCollecting docker-pycreds>=0.4.0\n",
            "  Downloading https://files.pythonhosted.org/packages/f5/e8/f6bd1eee09314e7e6dee49cbe2c5e22314ccdb38db16c9fc72d2fa80d054/docker_pycreds-0.4.0-py2.py3-none-any.whl\n",
            "Collecting configparser>=3.8.1\n",
            "  Downloading https://files.pythonhosted.org/packages/fd/01/ff260a18caaf4457eb028c96eeb405c4a230ca06c8ec9c1379f813caa52e/configparser-5.0.2-py3-none-any.whl\n",
            "Collecting subprocess32>=3.5.3\n",
            "\u001b[?25l  Downloading https://files.pythonhosted.org/packages/32/c8/564be4d12629b912ea431f1a50eb8b3b9d00f1a0b1ceff17f266be190007/subprocess32-3.5.4.tar.gz (97kB)\n",
            "\u001b[K     |████████████████████████████████| 102kB 13.9MB/s \n",
            "\u001b[?25hCollecting sentry-sdk>=0.4.0\n",
            "\u001b[?25l  Downloading https://files.pythonhosted.org/packages/f3/92/5a33be64990ba815364a8f2dd9e6f51de60d23dfddafb4f1fc5577d4dc64/sentry_sdk-1.0.0-py2.py3-none-any.whl (131kB)\n",
            "\u001b[K     |████████████████████████████████| 133kB 57.8MB/s \n",
            "\u001b[?25hRequirement already satisfied: PyYAML in /usr/local/lib/python3.7/dist-packages (from wandb) (3.13)\n",
            "Requirement already satisfied: requests<3,>=2.0.0 in /usr/local/lib/python3.7/dist-packages (from wandb) (2.23.0)\n",
            "Requirement already satisfied: Click>=7.0 in /usr/local/lib/python3.7/dist-packages (from wandb) (7.1.2)\n",
            "Requirement already satisfied: protobuf>=3.12.0 in /usr/local/lib/python3.7/dist-packages (from wandb) (3.12.4)\n",
            "Collecting shortuuid>=0.5.0\n",
            "  Downloading https://files.pythonhosted.org/packages/25/a6/2ecc1daa6a304e7f1b216f0896b26156b78e7c38e1211e9b798b4716c53d/shortuuid-1.0.1-py3-none-any.whl\n",
            "Requirement already satisfied: promise<3,>=2.0 in /usr/local/lib/python3.7/dist-packages (from wandb) (2.3)\n",
            "Collecting pathtools\n",
            "  Downloading https://files.pythonhosted.org/packages/e7/7f/470d6fcdf23f9f3518f6b0b76be9df16dcc8630ad409947f8be2eb0ed13a/pathtools-0.1.2.tar.gz\n",
            "Requirement already satisfied: psutil>=5.0.0 in /usr/local/lib/python3.7/dist-packages (from wandb) (5.4.8)\n",
            "Requirement already satisfied: six>=1.13.0 in /usr/local/lib/python3.7/dist-packages (from wandb) (1.15.0)\n",
            "Requirement already satisfied: python-dateutil>=2.6.1 in /usr/local/lib/python3.7/dist-packages (from wandb) (2.8.1)\n",
            "Collecting gitdb<5,>=4.0.1\n",
            "\u001b[?25l  Downloading https://files.pythonhosted.org/packages/ea/e8/f414d1a4f0bbc668ed441f74f44c116d9816833a48bf81d22b697090dba8/gitdb-4.0.7-py3-none-any.whl (63kB)\n",
            "\u001b[K     |████████████████████████████████| 71kB 10.2MB/s \n",
            "\u001b[?25hRequirement already satisfied: certifi in /usr/local/lib/python3.7/dist-packages (from sentry-sdk>=0.4.0->wandb) (2020.12.5)\n",
            "Requirement already satisfied: urllib3>=1.10.0 in /usr/local/lib/python3.7/dist-packages (from sentry-sdk>=0.4.0->wandb) (1.24.3)\n",
            "Requirement already satisfied: chardet<4,>=3.0.2 in /usr/local/lib/python3.7/dist-packages (from requests<3,>=2.0.0->wandb) (3.0.4)\n",
            "Requirement already satisfied: idna<3,>=2.5 in /usr/local/lib/python3.7/dist-packages (from requests<3,>=2.0.0->wandb) (2.10)\n",
            "Requirement already satisfied: setuptools in /usr/local/lib/python3.7/dist-packages (from protobuf>=3.12.0->wandb) (54.2.0)\n",
            "Collecting smmap<5,>=3.0.1\n",
            "  Downloading https://files.pythonhosted.org/packages/68/ee/d540eb5e5996eb81c26ceffac6ee49041d473bc5125f2aa995cf51ec1cf1/smmap-4.0.0-py2.py3-none-any.whl\n",
            "Building wheels for collected packages: subprocess32, pathtools\n",
            "  Building wheel for subprocess32 (setup.py) ... \u001b[?25l\u001b[?25hdone\n",
            "  Created wheel for subprocess32: filename=subprocess32-3.5.4-cp37-none-any.whl size=6489 sha256=19ba5367d4fe6e9c2a6592deb1148678eb8fe0fb682e0dcac283a1355ccfffa4\n",
            "  Stored in directory: /root/.cache/pip/wheels/68/39/1a/5e402bdfdf004af1786c8b853fd92f8c4a04f22aad179654d1\n",
            "  Building wheel for pathtools (setup.py) ... \u001b[?25l\u001b[?25hdone\n",
            "  Created wheel for pathtools: filename=pathtools-0.1.2-cp37-none-any.whl size=8786 sha256=0155d3f0d6f45ba6e244999b4075e43fba357ad232e9979c88f9aa037ea0cd0c\n",
            "  Stored in directory: /root/.cache/pip/wheels/0b/04/79/c3b0c3a0266a3cb4376da31e5bfe8bba0c489246968a68e843\n",
            "Successfully built subprocess32 pathtools\n",
            "Installing collected packages: smmap, gitdb, GitPython, docker-pycreds, configparser, subprocess32, sentry-sdk, shortuuid, pathtools, wandb\n",
            "Successfully installed GitPython-3.1.14 configparser-5.0.2 docker-pycreds-0.4.0 gitdb-4.0.7 pathtools-0.1.2 sentry-sdk-1.0.0 shortuuid-1.0.1 smmap-4.0.0 subprocess32-3.5.4 wandb-0.10.25\n"
          ],
          "name": "stdout"
        }
      ]
    },
    {
      "cell_type": "code",
      "metadata": {
        "id": "TNuE6MpNFuEF"
      },
      "source": [
        "import numpy as np\n",
        "import pandas as pd\n",
        "import os\n",
        "import keras\n",
        "import tensorflow as tf\n",
        "from tensorflow.keras import layers,models\n",
        "from tensorflow.keras.layers import Conv2D, MaxPooling2D, Dropout, Dense, Flatten, Activation , BatchNormalization\n",
        "from tensorflow.keras.preprocessing.image import ImageDataGenerator\n",
        "import matplotlib.pyplot as plt\n",
        "import cv2\n",
        "import wandb\n",
        "from wandb.keras import WandbCallback"
      ],
      "execution_count": 36,
      "outputs": []
    },
    {
      "cell_type": "code",
      "metadata": {
        "id": "UX5ynRejyZvc"
      },
      "source": [
        "from keras.applications.vgg16 import VGG16\n",
        "from keras.applications.inception_v3 import InceptionV3\n",
        "from keras.applications.inception_resnet_v2 import InceptionResNetV2\n",
        "from keras.applications.resnet50 import ResNet50\n",
        "from keras.applications.xception import Xception"
      ],
      "execution_count": 28,
      "outputs": []
    },
    {
      "cell_type": "code",
      "metadata": {
        "id": "VcXuL4wGG893"
      },
      "source": [
        "%%capture\n",
        "!curl -SL https://storage.googleapis.com/wandb_datasets/nature_12K.zip > nature_12K.zip\n",
        "!unzip nature_12K.zip\n",
        "\n",
        "train_dir='inaturalist_12K/train/'\n",
        "test_dir='inaturalist_12K/val/'\n",
        "categories=['Amphibia','Animalia','Arachnida','Aves','Fungi','Insecta','Mammalia','Mollusca','Plantae','Reptilia']"
      ],
      "execution_count": 2,
      "outputs": []
    },
    {
      "cell_type": "code",
      "metadata": {
        "id": "0vS7KdPEzPVq"
      },
      "source": [
        "sweep_config = {\n",
        "  'name': 'sweep1b',  \n",
        "  'method': 'grid',\n",
        "  'parameters': {\n",
        "        \n",
        "        \n",
        "        'fc_size':{\n",
        "            'values':[64,128]\n",
        "        },\n",
        "        'batchnorm':{\n",
        "            'values':['yes']\n",
        "        },\n",
        "        'augmentation':{\n",
        "            'values':['yes']   \n",
        "        },\n",
        "        'droprate':{\n",
        "            'values':[0.3,0.4]\n",
        "        },\n",
        "        'pre_train':{\n",
        "            'values':['inceptionv3']\n",
        "        }\n",
        "\n",
        "           \n",
        "    }\n",
        "\n",
        "}\n",
        "\n",
        "config_defaults={\n",
        "    'fc_size':64,\n",
        "    'batchnorm':'yes',\n",
        "    'augmentation':'yes',\n",
        "    'droprate':0.3,\n",
        "    'pre_train':'inceptionv3'\n",
        "}"
      ],
      "execution_count": 30,
      "outputs": []
    },
    {
      "cell_type": "code",
      "metadata": {
        "id": "SsElcmRUBU3v"
      },
      "source": [
        "def PreTrain():\n",
        "\n",
        "  wandb.init(config=config_defaults)\n",
        "  configs=wandb.config\n",
        "\n",
        "  batchnorm=configs['batchnorm']\n",
        "  droprate=configs['droprate']\n",
        "  augmentation=configs['augmentation']\n",
        "  fc_size=configs['fc_size']\n",
        "  pre_train = configs['pre_train']\n",
        "\n",
        "  wandb.run.name='model_'+pre_train+'_fc_size_'+str(fc_size)+'_droprate_'+str(droprate)+ str('_bn_' if batchnorm=='yes' else '') +str('augment' if augmentation=='yes' else '')\n",
        "\n",
        "\n",
        "  if pre_train == 'inceptionv3':\n",
        "    img_height = 299\n",
        "    img_width = 299\n",
        "    base_model = InceptionV3(include_top=False, weights='imagenet',input_shape=(img_height, img_width,3))\n",
        "\n",
        "  if pre_train == 'inceptionresnetv2':\n",
        "    img_height = 299\n",
        "    img_width = 299\n",
        "    base_model = InceptionResNetV2(include_top=False, weights='imagenet',input_shape=(img_height, img_width,3))\n",
        "\n",
        "  if pre_train == 'resnet50':\n",
        "    img_height = 224\n",
        "    img_width = 224\n",
        "    base_model = ResNet50(include_top=False, weights='imagenet',input_shape=(img_height, img_width,3))\n",
        "\n",
        "  if pre_train == 'Xception':\n",
        "    img_height = 299\n",
        "    img_width = 299\n",
        "    base_model = Xception(include_top=False, weights='imagenet',input_shape=(img_height, img_width,3))  \n",
        "\n",
        "\n",
        "  for layers in base_model.layers:\n",
        "    layers.trainable = False\n",
        "\n",
        "  model = keras.Sequential([\n",
        "      tf.keras.Input(shape=(img_height, img_width,3,)),\n",
        "      base_model,\n",
        "      Flatten(),\n",
        "      Dense(fc_size,activation='relu'),\n",
        "      \n",
        "  ])\n",
        "  if batchnorm == 'yes':\n",
        "    model.add(BatchNormalization())\n",
        "  model.add(Dropout(droprate))\n",
        "  model.add(Dense(10 ,activation='softmax'))\n",
        "  \n",
        "\n",
        "\n",
        "  augment= ImageDataGenerator(\n",
        "    rotation_range=30,\n",
        "    width_shift_range=0.2,\n",
        "    height_shift_range=0.2,\n",
        "    zoom_range=0.2,\n",
        "    horizontal_flip=True,\n",
        "    rescale=1.0 / 255,\n",
        "    validation_split=0.1,\n",
        "    dtype=tf.float32,\n",
        "  )\n",
        "\n",
        "  datagen = ImageDataGenerator(\n",
        "    rescale=1.0 / 255,\n",
        "    validation_split=0.1,\n",
        "    dtype=tf.float32,\n",
        "  )\n",
        "\n",
        "  train_set = datagen.flow_from_directory(\n",
        "    train_dir,\n",
        "    target_size=(img_height, img_width),\n",
        "    batch_size=32,\n",
        "    color_mode='rgb',\n",
        "    class_mode='sparse',\n",
        "    shuffle=True,\n",
        "    subset='training',\n",
        "    seed=123,\n",
        "  )\n",
        "\n",
        "  aug_set = augment.flow_from_directory(\n",
        "      train_dir,\n",
        "      target_size=(img_height, img_width),\n",
        "      batch_size=32,\n",
        "      color_mode='rgb',\n",
        "      class_mode='sparse',\n",
        "      shuffle=True,\n",
        "      subset='training',\n",
        "      seed=123,\n",
        "  )\n",
        "\n",
        "  val_set = datagen.flow_from_directory(\n",
        "      train_dir,\n",
        "      target_size=(img_height, img_width),\n",
        "      color_mode='rgb',\n",
        "      class_mode='sparse',\n",
        "      shuffle=True,\n",
        "      subset='validation',\n",
        "      seed=123,\n",
        "  )\n",
        "\n",
        "  model.compile(\n",
        "    optimizer=tf.keras.optimizers.Adam(),\n",
        "    loss=[tf.keras.losses.SparseCategoricalCrossentropy()],\n",
        "    metrics=['accuracy'],\n",
        "  )\n",
        "\n",
        "  if augmentation =='no' :\n",
        "    hist=model.fit(train_set,epochs=10,validation_data=val_set,callbacks=[WandbCallback()])\n",
        "  \n",
        "  else:\n",
        "    hist=model.fit(aug_set,epochs=10,validation_data=val_set,callbacks=[WandbCallback()])\n",
        "  val_acc=max(hist.history['val_accuracy'])\n",
        "  params={'batch_norm':batchnorm,'augmentation':augmentation,'dropout':droprate,'pre_trained_model':pre_train,'val_acc':val_acc}\n",
        "  wandb.log(params)"
      ],
      "execution_count": 41,
      "outputs": []
    },
    {
      "cell_type": "code",
      "metadata": {
        "colab": {
          "base_uri": "https://localhost:8080/",
          "height": 425
        },
        "id": "u3vt5VfOBUua",
        "outputId": "8725b769-0267-4fde-cddc-83a95cfd84a3"
      },
      "source": [
        "sweep_id=wandb.sweep(sweep_config,entity='sanjeev-nimeesh',project='assignment_2')\n",
        "wandb.agent(sweep_id, PreTrain)   "
      ],
      "execution_count": null,
      "outputs": [
        {
          "output_type": "stream",
          "text": [
            "\u001b[34m\u001b[1mwandb\u001b[0m: \u001b[33mWARNING\u001b[0m Calling wandb.login() after wandb.init() has no effect.\n",
            "\u001b[34m\u001b[1mwandb\u001b[0m: \u001b[33mWARNING\u001b[0m Calling wandb.login() after wandb.init() has no effect.\n"
          ],
          "name": "stderr"
        },
        {
          "output_type": "stream",
          "text": [
            "Create sweep with ID: i39rtddw\n",
            "Sweep URL: https://wandb.ai/sanjeev-nimeesh/assignment_2/sweeps/i39rtddw\n"
          ],
          "name": "stdout"
        },
        {
          "output_type": "stream",
          "text": [
            "\u001b[34m\u001b[1mwandb\u001b[0m: Sweep Agent: Waiting for job.\n",
            "\u001b[34m\u001b[1mwandb\u001b[0m: Job received.\n",
            "\u001b[34m\u001b[1mwandb\u001b[0m: Agent Starting Run: fuwdkewu with config:\n",
            "\u001b[34m\u001b[1mwandb\u001b[0m: \taugmentation: yes\n",
            "\u001b[34m\u001b[1mwandb\u001b[0m: \tbatchnorm: yes\n",
            "\u001b[34m\u001b[1mwandb\u001b[0m: \tdroprate: 0.3\n",
            "\u001b[34m\u001b[1mwandb\u001b[0m: \tfc_size: 64\n",
            "\u001b[34m\u001b[1mwandb\u001b[0m: \tpre_train: inceptionv3\n"
          ],
          "name": "stderr"
        },
        {
          "output_type": "display_data",
          "data": {
            "text/html": [
              "\n",
              "                Tracking run with wandb version 0.10.25<br/>\n",
              "                Syncing run <strong style=\"color:#cdcd00\">lilac-sweep-1</strong> to <a href=\"https://wandb.ai\" target=\"_blank\">Weights & Biases</a> <a href=\"https://docs.wandb.com/integrations/jupyter.html\" target=\"_blank\">(Documentation)</a>.<br/>\n",
              "                Project page: <a href=\"https://wandb.ai/sanjeev-nimeesh/assignment_2\" target=\"_blank\">https://wandb.ai/sanjeev-nimeesh/assignment_2</a><br/>\n",
              "                Sweep page: <a href=\"https://wandb.ai/sanjeev-nimeesh/assignment_2/sweeps/i39rtddw\" target=\"_blank\">https://wandb.ai/sanjeev-nimeesh/assignment_2/sweeps/i39rtddw</a><br/>\n",
              "Run page: <a href=\"https://wandb.ai/sanjeev-nimeesh/assignment_2/runs/fuwdkewu\" target=\"_blank\">https://wandb.ai/sanjeev-nimeesh/assignment_2/runs/fuwdkewu</a><br/>\n",
              "                Run data is saved locally in <code>/content/wandb/run-20210410_191930-fuwdkewu</code><br/><br/>\n",
              "            "
            ],
            "text/plain": [
              "<IPython.core.display.HTML object>"
            ]
          },
          "metadata": {
            "tags": []
          }
        },
        {
          "output_type": "stream",
          "text": [
            "Found 9000 images belonging to 10 classes.\n",
            "Found 9000 images belonging to 10 classes.\n",
            "Found 999 images belonging to 10 classes.\n",
            "Epoch 1/10\n",
            "161/282 [================>.............] - ETA: 1:57 - loss: 1.7115 - accuracy: 0.4731"
          ],
          "name": "stdout"
        }
      ]
    },
    {
      "cell_type": "code",
      "metadata": {
        "id": "TPYcMQWgBUX_"
      },
      "source": [
        "\n",
        "  "
      ],
      "execution_count": 39,
      "outputs": []
    },
    {
      "cell_type": "code",
      "metadata": {
        "id": "NVCitwd9LPyF"
      },
      "source": [
        ""
      ],
      "execution_count": null,
      "outputs": []
    }
  ]
}